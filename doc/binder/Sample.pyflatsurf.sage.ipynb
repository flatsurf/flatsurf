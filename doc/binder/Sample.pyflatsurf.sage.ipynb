{
 "cells": [
  {
   "cell_type": "markdown",
   "metadata": {},
   "source": [
    "# Using pyflatsurf from SageMath"
   ]
  },
  {
   "cell_type": "markdown",
   "metadata": {},
   "source": [
    "[pyflatsurf](https://github.com/flatsurf/flatsurf/tree/master/pyflatsurf/src) provides the interface to work with the C++ library [libflatsurf](https://github.com/flatsurf/flatsurf/tree/master/libflatsurf/src) from Python. While the actual C++ types are exposed under `pyflatsurf.flatsurf` through [cppyy](https://cppyy.readthedocs.io/), this part of the interface is quite low-level and can be tedious to work with. It's likely more convenient for you to start from some higher-level concepts from the [SageMath](https://sagemath.org) library [sage-flatsurf](https://github.com/videlec/sage-flatsurf) as exemplified below."
   ]
  },
  {
   "cell_type": "code",
   "execution_count": null,
   "metadata": {},
   "outputs": [],
   "source": [
    "# Load pyflatsurf, Python bindings for the C++ library libflatsurf\n",
    "import pyflatsurf\n",
    "# Load flatsurf, a SageMath module to work with Surfaces\n",
    "import flatsurf"
   ]
  },
  {
   "cell_type": "markdown",
   "metadata": {},
   "source": [
    "## A Regular 2n-gon"
   ]
  },
  {
   "cell_type": "code",
   "execution_count": null,
   "metadata": {},
   "outputs": [],
   "source": [
    "# A sage-flatsurf surface\n",
    "S5 = flatsurf.translation_surfaces.veech_double_n_gon(5)"
   ]
  },
  {
   "cell_type": "code",
   "execution_count": null,
   "metadata": {},
   "outputs": [],
   "source": [
    "# Converted to a libflatsurf/pyflatsurf surface\n",
    "T5 = pyflatsurf.Surface(S5)"
   ]
  },
  {
   "cell_type": "markdown",
   "metadata": {},
   "source": [
    "### Saddle Connections on that Surface"
   ]
  },
  {
   "cell_type": "code",
   "execution_count": null,
   "metadata": {},
   "outputs": [],
   "source": [
    "for c in T5.saddle_connections(bound = 4):\n",
    "    print(c)"
   ]
  },
  {
   "cell_type": "markdown",
   "metadata": {},
   "source": [
    "## Some other Surfaces"
   ]
  },
  {
   "cell_type": "code",
   "execution_count": null,
   "metadata": {},
   "outputs": [],
   "source": [
    "A3 = flatsurf.translation_surfaces.arnoux_yoccoz(3)\n",
    "A4 = flatsurf.translation_surfaces.arnoux_yoccoz(4)\n",
    "W3 = flatsurf.translation_surfaces.ward(3)\n",
    "W17 = flatsurf.translation_surfaces.ward(17)"
   ]
  }
 ],
 "metadata": {
  "kernelspec": {
   "display_name": "SageMath 8.8",
   "language": "sage",
   "name": "sagemath"
  },
  "language_info": {
   "codemirror_mode": {
    "name": "ipython",
    "version": 3
   },
   "file_extension": ".py",
   "mimetype": "text/x-python",
   "name": "python",
   "nbconvert_exporter": "python",
   "pygments_lexer": "ipython3",
   "version": "3.7.3"
  }
 },
 "nbformat": 4,
 "nbformat_minor": 2
}
