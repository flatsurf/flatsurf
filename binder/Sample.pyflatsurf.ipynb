{
 "cells": [
  {
   "cell_type": "code",
   "execution_count": null,
   "metadata": {},
   "outputs": [],
   "source": [
    "# cppyy which exposes the C++ library to Python is not packaged in conda-forge yet so we install it from PyPI\n",
    "!pip install cppyy"
   ]
  },
  {
   "cell_type": "code",
   "execution_count": null,
   "metadata": {},
   "outputs": [],
   "source": [
    "from pyflatsurf import flatsurf"
   ]
  },
  {
   "cell_type": "markdown",
   "metadata": {},
   "source": [
    "## A Torus"
   ]
  },
  {
   "cell_type": "code",
   "execution_count": null,
   "metadata": {},
   "outputs": [],
   "source": [
    "R2 = flatsurf.VectorLongLong\n",
    "vectors = [R2(1, 0), R2(0, 1), R2(1, 1)]\n",
    "vertices = [[1, 3, 2, -1, -3, -2]]\n",
    "surface = flatsurf.Surface(vertices, vectors)\n",
    "surface"
   ]
  },
  {
   "cell_type": "code",
   "execution_count": null,
   "metadata": {},
   "outputs": [],
   "source": [
    "connections = flatsurf.SaddleConnections[R2](surface, flatsurf.Bound(16**2), flatsurf.HalfEdge(1))"
   ]
  },
  {
   "cell_type": "code",
   "execution_count": null,
   "metadata": {},
   "outputs": [],
   "source": [
    "for c in connections:\n",
    "    print(c)"
   ]
  },
  {
   "cell_type": "markdown",
   "metadata": {},
   "source": [
    "## A Hexagon"
   ]
  },
  {
   "cell_type": "code",
   "execution_count": null,
   "metadata": {},
   "outputs": [],
   "source": [
    "from pyexactreal import exactreal\n",
    "K = exactreal.NumberField(\"x^2 - 3\", \"x\", \"1.73 +/- 0.1\")\n",
    "x = K.gen()\n",
    "R = exactreal.NumberFieldElement"
   ]
  },
  {
   "cell_type": "code",
   "execution_count": null,
   "metadata": {},
   "outputs": [],
   "source": [
    "R2 = flatsurf.VectorEAntic\n",
    "vectors = [R2(R(K, 2), R(K, 0)), R2(R(K, 1), x), R2(R(K, 3), x), R2(R(K, 1), -x), R2(R(K, 4), R(K, 0)), R2(R(K, 3), x)]\n",
    "vertices = [[1, 3, -4, -5, -3, -2], [2, -1, -6, 4, 5, 6]]\n",
    "surface = flatsurf.Surface(vertices, vectors)\n",
    "surface"
   ]
  },
  {
   "cell_type": "code",
   "execution_count": null,
   "metadata": {},
   "outputs": [],
   "source": [
    "connections = flatsurf.SaddleConnections[R2](surface, flatsurf.Bound(16**2), flatsurf.HalfEdge(1))"
   ]
  },
  {
   "cell_type": "code",
   "execution_count": null,
   "metadata": {},
   "outputs": [],
   "source": [
    "for c in connections: print(c)"
   ]
  },
  {
   "cell_type": "markdown",
   "metadata": {},
   "source": [
    "## A Hexagon with Random Real Side Lengths"
   ]
  },
  {
   "cell_type": "code",
   "execution_count": null,
   "metadata": {},
   "outputs": [],
   "source": [
    "from pyexactreal import exactreal\n",
    "RealNumber = exactreal.RealNumber\n",
    "Module = exactreal.NumberFieldModule\n",
    "M = Module(K, RealNumber.rational(1), RealNumber.random(), RealNumber.random())"
   ]
  },
  {
   "cell_type": "code",
   "execution_count": null,
   "metadata": {},
   "outputs": [],
   "source": [
    "R2 = flatsurf.VectorExactReal[exactreal.NumberFieldTraits]\n",
    "# The side lengths are going to be 2, 2·μ, 2·ν where μ,ν are the random parameters of M.\n",
    "one = M.gen(0)\n",
    "μ = M.gen(1)\n",
    "ν = M.gen(2)\n",
    "# We build our vectors from (2, 0), μ·(1, √3), ν.(-1, √3).\n",
    "u = R2(2*one, 0*one)\n",
    "v = R2(μ, x*μ)\n",
    "w = R2(-ν, x*ν)\n",
    "vectors = [u, v, u + v, -w, u + v - w, u + v]\n",
    "surface = flatsurf.Surface(vertices, vectors)\n",
    "surface"
   ]
  },
  {
   "cell_type": "code",
   "execution_count": null,
   "metadata": {},
   "outputs": [],
   "source": [
    "connections = flatsurf.SaddleConnections[R2](surface, flatsurf.Bound(16**2), flatsurf.HalfEdge(1))"
   ]
  },
  {
   "cell_type": "code",
   "execution_count": null,
   "metadata": {},
   "outputs": [],
   "source": [
    "# very slow, see https://github.com/flatsurf/flatsurf/issues/64\n",
    "for c in connections: print(c)"
   ]
  }
 ],
 "metadata": {
  "kernelspec": {
   "display_name": "Python 3",
   "language": "python",
   "name": "python3"
  },
  "language_info": {
   "codemirror_mode": {
    "name": "ipython",
    "version": 3
   },
   "file_extension": ".py",
   "mimetype": "text/x-python",
   "name": "python",
   "nbconvert_exporter": "python",
   "pygments_lexer": "ipython3",
   "version": "3.7.3"
  }
 },
 "nbformat": 4,
 "nbformat_minor": 2
}
