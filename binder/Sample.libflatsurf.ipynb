{
 "cells": [
  {
   "cell_type": "code",
   "execution_count": null,
   "metadata": {},
   "outputs": [],
   "source": [
    "#include <iostream>\n",
    "#include <vector>\n",
    "// Can be removed once https://github.com/videlec/e-antic/pull/54 has been merged\n",
    "#include <type_traits>\n",
    "#include <flatsurf/flat_triangulation.hpp>\n",
    "#include <flatsurf/vector_longlong.hpp>\n",
    "#include <flatsurf/vector_eantic.hpp>\n",
    "#include <flatsurf/bound.hpp>\n",
    "#include <flatsurf/half_edge.hpp>\n",
    "#include <flatsurf/saddle_connections.hpp>\n",
    "#include <exact-real/number_field_traits.hpp>"
   ]
  },
  {
   "cell_type": "markdown",
   "metadata": {},
   "source": [
    "## Saddle Connections in a Unit Square"
   ]
  },
  {
   "cell_type": "code",
   "execution_count": null,
   "metadata": {},
   "outputs": [],
   "source": [
    "using std::vector;\n",
    "using flatsurf::FlatTriangulation;\n",
    "using R2 = flatsurf::VectorLongLong;\n",
    "\n",
    "auto vectors = vector{R2(1, 0), R2(0, 1), R2(1, 1)};\n",
    "auto vertices = vector<vector<int>>{{1, 3, 2, -1, -3, -2}};\n",
    "auto square = FlatTriangulation(vertices, vectors);"
   ]
  },
  {
   "cell_type": "code",
   "execution_count": null,
   "metadata": {},
   "outputs": [],
   "source": [
    "std::cout << square;"
   ]
  },
  {
   "cell_type": "code",
   "execution_count": null,
   "metadata": {},
   "outputs": [],
   "source": [
    "using namespace flatsurf;\n",
    "\n",
    "auto connections = SaddleConnections(square, Bound(4 * 4), HalfEdge(1));"
   ]
  },
  {
   "cell_type": "code",
   "execution_count": null,
   "metadata": {},
   "outputs": [],
   "source": [
    "for (auto c : connections)\n",
    "    std::cout << *c << std::endl;"
   ]
  },
  {
   "cell_type": "markdown",
   "metadata": {},
   "source": [
    "## Saddle Connections in a Hexagon"
   ]
  },
  {
   "cell_type": "code",
   "execution_count": null,
   "metadata": {},
   "outputs": [],
   "source": [
    "using std::vector;\n",
    "using flatsurf::FlatTriangulation;\n",
    "using R = eantic::renf_elem_class;\n",
    "using R2 = flatsurf::VectorEAntic;\n",
    "\n",
    "auto K = eantic::renf_class(\"x^2 - 3\", \"x\", \"1.73 +/- 0.1\");\n",
    "auto x = K.gen();\n",
    "auto vectorsHex = vector{R2(R(K, 2), R(K, 0)), R2(R(K, 1), x), R2(R(K, 3), x), R2(R(K, 1), -x), R2(R(K, 4), R(K, 0)), R2(R(K, 3), x)};\n",
    "auto verticesHex = vector<vector<int>>({{1, 3, -4, -5, -3, -2}, {2, -1, -6, 4, 5, 6}});\n",
    "auto hexagon = FlatTriangulation(verticesHex, vectorsHex);"
   ]
  },
  {
   "cell_type": "code",
   "execution_count": null,
   "metadata": {},
   "outputs": [],
   "source": [
    "std::cout << hexagon;"
   ]
  },
  {
   "cell_type": "code",
   "execution_count": null,
   "metadata": {},
   "outputs": [],
   "source": [
    "using namespace flatsurf;\n",
    "\n",
    "auto connectionsHex = SaddleConnections(hexagon, Bound(16 * 16), HalfEdge(1));"
   ]
  },
  {
   "cell_type": "code",
   "execution_count": null,
   "metadata": {},
   "outputs": [],
   "source": [
    "for (auto c : connectionsHex)\n",
    "    std::cout << *c << std::endl;"
   ]
  }
 ],
 "metadata": {
  "kernelspec": {
   "display_name": "C++17",
   "language": "C++17",
   "name": "xcpp17"
  },
  "language_info": {
   "codemirror_mode": "text/x-c++src",
   "file_extension": ".cpp",
   "mimetype": "text/x-c++src",
   "name": "c++",
   "version": "-std=c++17"
  }
 },
 "nbformat": 4,
 "nbformat_minor": 2
}
